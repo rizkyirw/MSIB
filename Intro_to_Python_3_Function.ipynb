{
  "nbformat": 4,
  "nbformat_minor": 0,
  "metadata": {
    "colab": {
      "provenance": [],
      "authorship_tag": "ABX9TyOxftWeuFVG9L6xXIAuqzpD",
      "include_colab_link": true
    },
    "kernelspec": {
      "name": "python3",
      "display_name": "Python 3"
    },
    "language_info": {
      "name": "python"
    }
  },
  "cells": [
    {
      "cell_type": "markdown",
      "metadata": {
        "id": "view-in-github",
        "colab_type": "text"
      },
      "source": [
        "<a href=\"https://colab.research.google.com/github/rizkyirw/MSIB/blob/main/Intro_to_Python_3_Function.ipynb\" target=\"_parent\"><img src=\"https://colab.research.google.com/assets/colab-badge.svg\" alt=\"Open In Colab\"/></a>"
      ]
    },
    {
      "cell_type": "markdown",
      "source": [
        "## Function"
      ],
      "metadata": {
        "id": "H7VB3L5FrcXN"
      }
    },
    {
      "cell_type": "code",
      "execution_count": 76,
      "metadata": {
        "id": "vqtnb8k-rQJ8"
      },
      "outputs": [],
      "source": [
        "#Basic Function\n",
        "\n",
        "def function1():\n",
        "  print('Kita belajar function')"
      ]
    },
    {
      "cell_type": "code",
      "source": [
        "function1()"
      ],
      "metadata": {
        "colab": {
          "base_uri": "https://localhost:8080/"
        },
        "id": "RsxTZvpfrrvz",
        "outputId": "a7ae86aa-2715-4f37-dc60-db5580070da4"
      },
      "execution_count": 77,
      "outputs": [
        {
          "output_type": "stream",
          "name": "stdout",
          "text": [
            "Kita belajar function\n"
          ]
        }
      ]
    },
    {
      "cell_type": "code",
      "source": [
        "#Function with arguments/parameters\n",
        "\n",
        "def my_function(fname, lname):\n",
        "  print(fname + \" \" + lname)\n",
        "\n",
        "my_function(\"Emil\", \"Refsnes\")"
      ],
      "metadata": {
        "colab": {
          "base_uri": "https://localhost:8080/"
        },
        "id": "N4igAcqSrvYV",
        "outputId": "43a1cef9-ab53-42db-de6c-0212ca8b1c36"
      },
      "execution_count": 78,
      "outputs": [
        {
          "output_type": "stream",
          "name": "stdout",
          "text": [
            "Emil Refsnes\n"
          ]
        }
      ]
    },
    {
      "cell_type": "code",
      "source": [
        "def luas_segitiga(a,t):\n",
        "  luas = 1/2*a*t\n",
        "  print(luas)"
      ],
      "metadata": {
        "id": "H_0_5ZzLsFBu"
      },
      "execution_count": 79,
      "outputs": []
    },
    {
      "cell_type": "code",
      "source": [
        "luas_segitiga(2,10)"
      ],
      "metadata": {
        "colab": {
          "base_uri": "https://localhost:8080/"
        },
        "id": "uyVHOmYCuMKI",
        "outputId": "5d25ca21-a044-4a36-ada8-66a754a8aa6c"
      },
      "execution_count": 80,
      "outputs": [
        {
          "output_type": "stream",
          "name": "stdout",
          "text": [
            "10.0\n"
          ]
        }
      ]
    },
    {
      "cell_type": "code",
      "source": [
        "def luas_segiempat(s1,s2):\n",
        "  print(s1*s2)"
      ],
      "metadata": {
        "id": "BA_0ciacuNU4"
      },
      "execution_count": 81,
      "outputs": []
    },
    {
      "cell_type": "code",
      "source": [
        "luas_segiempat(2,2)"
      ],
      "metadata": {
        "colab": {
          "base_uri": "https://localhost:8080/"
        },
        "id": "nY2rV9bPuTfY",
        "outputId": "10a0dbda-97c6-4191-dab0-9e8632274ffd"
      },
      "execution_count": 82,
      "outputs": [
        {
          "output_type": "stream",
          "name": "stdout",
          "text": [
            "4\n"
          ]
        }
      ]
    },
    {
      "cell_type": "code",
      "source": [
        "#Default Parameter\n",
        "\n",
        "def my_function(country = \"Norway\"):\n",
        "  print(\"I am from \" + country)\n",
        "\n",
        "my_function(\"Sweden\")\n",
        "my_function(\"India\")\n",
        "my_function()\n",
        "my_function(\"Brazil\")"
      ],
      "metadata": {
        "colab": {
          "base_uri": "https://localhost:8080/"
        },
        "id": "xf-YngR-utMC",
        "outputId": "0737b518-7597-48e3-d0e9-96a8f75f7c44"
      },
      "execution_count": 83,
      "outputs": [
        {
          "output_type": "stream",
          "name": "stdout",
          "text": [
            "I am from Sweden\n",
            "I am from India\n",
            "I am from Norway\n",
            "I am from Brazil\n"
          ]
        }
      ]
    },
    {
      "cell_type": "code",
      "source": [
        "#List as an argument\n",
        "\n",
        "def my_function(food):\n",
        "  for x in food:\n",
        "    print(x)\n",
        "\n",
        "fruits = [\"apple\", \"banana\", \"cherry\"]\n",
        "\n",
        "my_function(fruits)"
      ],
      "metadata": {
        "colab": {
          "base_uri": "https://localhost:8080/"
        },
        "id": "7YXOZ6gWv8Ns",
        "outputId": "6170276f-bf6f-4298-cfdd-b57e85e859d8"
      },
      "execution_count": 84,
      "outputs": [
        {
          "output_type": "stream",
          "name": "stdout",
          "text": [
            "apple\n",
            "banana\n",
            "cherry\n"
          ]
        }
      ]
    },
    {
      "cell_type": "code",
      "source": [
        "#Return Function\n",
        "\n",
        "def luas_segitiga(a=3, t=10):\n",
        "  luas = 1/2*a*t\n",
        "  return luas #using return to save/keep the input if not just show the input"
      ],
      "metadata": {
        "id": "2Zqh8K1Vxisl"
      },
      "execution_count": 85,
      "outputs": []
    },
    {
      "cell_type": "code",
      "source": [
        "luas_segitiga()"
      ],
      "metadata": {
        "colab": {
          "base_uri": "https://localhost:8080/"
        },
        "id": "OtOjNdVbziU7",
        "outputId": "92dc2aa1-60d3-48a9-fe08-767569298ba5"
      },
      "execution_count": 86,
      "outputs": [
        {
          "output_type": "execute_result",
          "data": {
            "text/plain": [
              "15.0"
            ]
          },
          "metadata": {},
          "execution_count": 86
        }
      ]
    },
    {
      "cell_type": "code",
      "source": [
        "luas_segitiga(2,10)"
      ],
      "metadata": {
        "colab": {
          "base_uri": "https://localhost:8080/"
        },
        "id": "KW3Ipv0azszt",
        "outputId": "372ef2fc-6806-4652-f46f-edfa69bad30b"
      },
      "execution_count": 87,
      "outputs": [
        {
          "output_type": "execute_result",
          "data": {
            "text/plain": [
              "10.0"
            ]
          },
          "metadata": {},
          "execution_count": 87
        }
      ]
    },
    {
      "cell_type": "code",
      "source": [
        "def duakali_luas_segitiga(luassegitiga):\n",
        "  total_luas = 2*luassegitiga\n",
        "  print(total_luas)"
      ],
      "metadata": {
        "id": "X2Qj_CtUzudE"
      },
      "execution_count": 88,
      "outputs": []
    },
    {
      "cell_type": "code",
      "source": [
        "duakali_luas_segitiga(luas_segitiga(10,2))"
      ],
      "metadata": {
        "colab": {
          "base_uri": "https://localhost:8080/"
        },
        "id": "yb62VCAMz-DI",
        "outputId": "2fa0ccd8-8629-4696-f3ff-db3b350331fd"
      },
      "execution_count": 89,
      "outputs": [
        {
          "output_type": "stream",
          "name": "stdout",
          "text": [
            "20.0\n"
          ]
        }
      ]
    },
    {
      "cell_type": "code",
      "source": [
        "duakali_luas_segitiga(luas_segitiga())"
      ],
      "metadata": {
        "colab": {
          "base_uri": "https://localhost:8080/"
        },
        "id": "TxKM0YRU0GXk",
        "outputId": "4275a022-ce01-4dd3-eafd-3d8a2c2e8d02"
      },
      "execution_count": 90,
      "outputs": [
        {
          "output_type": "stream",
          "name": "stdout",
          "text": [
            "30.0\n"
          ]
        }
      ]
    },
    {
      "cell_type": "code",
      "source": [
        "bal = 565\n",
        "\n",
        "def addMoney(m):\n",
        "  global bal\n",
        "  bal += m # sama aja kaya -> bal = bal+m\n",
        "  return f'Current Balance: ${bal}'"
      ],
      "metadata": {
        "id": "63JAD1ct1P8J"
      },
      "execution_count": 91,
      "outputs": []
    },
    {
      "cell_type": "code",
      "source": [
        "addMoney(200)"
      ],
      "metadata": {
        "colab": {
          "base_uri": "https://localhost:8080/",
          "height": 36
        },
        "id": "nFOaQ_sC5Nw-",
        "outputId": "bdeb5f83-24b9-4e6b-95de-f2c317dd7b6a"
      },
      "execution_count": 92,
      "outputs": [
        {
          "output_type": "execute_result",
          "data": {
            "text/plain": [
              "'Current Balance: $765'"
            ],
            "application/vnd.google.colaboratory.intrinsic+json": {
              "type": "string"
            }
          },
          "metadata": {},
          "execution_count": 92
        }
      ]
    },
    {
      "cell_type": "code",
      "source": [
        "bal = 565\n",
        "\n",
        "def subMoney(m):\n",
        "  global bal\n",
        "  bal -= m\n",
        "  return f'Current Balance: ${bal}'"
      ],
      "metadata": {
        "id": "PbyLd9Vy5aGA"
      },
      "execution_count": 93,
      "outputs": []
    },
    {
      "cell_type": "code",
      "source": [
        "subMoney(50)"
      ],
      "metadata": {
        "colab": {
          "base_uri": "https://localhost:8080/",
          "height": 36
        },
        "id": "QCB0-w0C6DPw",
        "outputId": "443a0013-20af-4688-f51a-dae1deca59a0"
      },
      "execution_count": 94,
      "outputs": [
        {
          "output_type": "execute_result",
          "data": {
            "text/plain": [
              "'Current Balance: $515'"
            ],
            "application/vnd.google.colaboratory.intrinsic+json": {
              "type": "string"
            }
          },
          "metadata": {},
          "execution_count": 94
        }
      ]
    },
    {
      "cell_type": "code",
      "source": [
        "bal = 565\n",
        "\n",
        "def addMoney(m):\n",
        "  global bal\n",
        "  bal += m # sama aja kaya -> bal = bal+m\n",
        "  return f'Current Balance: ${bal}'\n",
        "\n",
        "def subMoney(m):\n",
        "  global bal\n",
        "  bal -= m\n",
        "  return f'Current Balance: ${bal}'\n"
      ],
      "metadata": {
        "id": "oG_62r1O6Hcf"
      },
      "execution_count": 95,
      "outputs": []
    },
    {
      "cell_type": "code",
      "source": [
        "# subMoney(100)"
      ],
      "metadata": {
        "id": "2dkUDf6265CX"
      },
      "execution_count": 96,
      "outputs": []
    },
    {
      "cell_type": "code",
      "source": [
        "bal"
      ],
      "metadata": {
        "colab": {
          "base_uri": "https://localhost:8080/"
        },
        "id": "rmf_3nEw7SX9",
        "outputId": "14f81c01-3294-4b1b-d237-bfe2ffa328b8"
      },
      "execution_count": 97,
      "outputs": [
        {
          "output_type": "execute_result",
          "data": {
            "text/plain": [
              "565"
            ]
          },
          "metadata": {},
          "execution_count": 97
        }
      ]
    },
    {
      "cell_type": "code",
      "source": [
        "def main(m, s):\n",
        "  global bal\n",
        "  if s == '-':\n",
        "    return subMoney(m)\n",
        "  elif s == '+':\n",
        "    return addMoney(m)\n",
        "  else:\n",
        "    return print('Incorrect Input!')"
      ],
      "metadata": {
        "id": "4xRm6pH17ZCM"
      },
      "execution_count": 98,
      "outputs": []
    },
    {
      "cell_type": "code",
      "source": [
        "amt = int(input('Enter Amount: '))\n",
        "sign = input('Debit(-) or Credit(+): ')\n",
        "\n",
        "main(amt, sign)"
      ],
      "metadata": {
        "colab": {
          "base_uri": "https://localhost:8080/",
          "height": 70
        },
        "id": "rc16JsZw7ulh",
        "outputId": "4b00060f-fd88-4b88-c2c1-d597a2e2715f"
      },
      "execution_count": 99,
      "outputs": [
        {
          "name": "stdout",
          "output_type": "stream",
          "text": [
            "Enter Amount: 250\n",
            "Debit(-) or Credit(+): +\n"
          ]
        },
        {
          "output_type": "execute_result",
          "data": {
            "text/plain": [
              "'Current Balance: $815'"
            ],
            "application/vnd.google.colaboratory.intrinsic+json": {
              "type": "string"
            }
          },
          "metadata": {},
          "execution_count": 99
        }
      ]
    }
  ]
}