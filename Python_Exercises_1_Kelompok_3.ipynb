{
  "nbformat": 4,
  "nbformat_minor": 0,
  "metadata": {
    "colab": {
      "provenance": [],
      "collapsed_sections": [],
      "include_colab_link": true
    },
    "kernelspec": {
      "name": "python3",
      "display_name": "Python 3"
    },
    "language_info": {
      "name": "python"
    }
  },
  "cells": [
    {
      "cell_type": "markdown",
      "metadata": {
        "id": "view-in-github",
        "colab_type": "text"
      },
      "source": [
        "<a href=\"https://colab.research.google.com/github/rizkyirw/MSIB/blob/main/Python_Exercises_1_Kelompok_3.ipynb\" target=\"_parent\"><img src=\"https://colab.research.google.com/assets/colab-badge.svg\" alt=\"Open In Colab\"/></a>"
      ]
    },
    {
      "cell_type": "markdown",
      "source": [
        "## Group 3 :\n",
        "- Fithri Nur'aini\n",
        "- Hafiz Clevanota\n",
        "- Isro' Rizky Wibowo\n",
        "\n"
      ],
      "metadata": {
        "id": "ItAPCdEbGu8G"
      }
    },
    {
      "cell_type": "markdown",
      "source": [
        "# Data Type"
      ],
      "metadata": {
        "id": "VTWQOrjzMLOs"
      }
    },
    {
      "cell_type": "code",
      "source": [
        "data1 = 20\n",
        "\n",
        "data2 = 20.5\n",
        "\n",
        "data3 = '20'\n",
        "\n",
        "data4 = True"
      ],
      "metadata": {
        "id": "OAMY3lqdGqby"
      },
      "execution_count": null,
      "outputs": []
    },
    {
      "cell_type": "markdown",
      "source": [
        "1. Cek data type for each data above"
      ],
      "metadata": {
        "id": "Sg8K2MzqVMRF"
      }
    },
    {
      "cell_type": "code",
      "source": [
        "print(type(data1))\n",
        "print(type(data2))\n",
        "print(type(data3))\n",
        "print(type(data4))"
      ],
      "metadata": {
        "colab": {
          "base_uri": "https://localhost:8080/"
        },
        "id": "qZREK42tHIKn",
        "outputId": "0b0e6d94-d158-4e2e-9a59-f21137eeebb3"
      },
      "execution_count": null,
      "outputs": [
        {
          "output_type": "stream",
          "name": "stdout",
          "text": [
            "<class 'int'>\n",
            "<class 'float'>\n",
            "<class 'str'>\n",
            "<class 'bool'>\n"
          ]
        }
      ]
    },
    {
      "cell_type": "markdown",
      "source": [
        "2. Convert data3 to float data type"
      ],
      "metadata": {
        "id": "skT7xQ5uVTjb"
      }
    },
    {
      "cell_type": "code",
      "source": [
        "data3 = float\n",
        "print(data3)"
      ],
      "metadata": {
        "colab": {
          "base_uri": "https://localhost:8080/"
        },
        "id": "C9pij782ILOw",
        "outputId": "43f12eb1-9812-44c9-8527-7582411a3ad7"
      },
      "execution_count": null,
      "outputs": [
        {
          "output_type": "stream",
          "name": "stdout",
          "text": [
            "<class 'float'>\n"
          ]
        }
      ]
    },
    {
      "cell_type": "markdown",
      "source": [
        "# Data List"
      ],
      "metadata": {
        "id": "iZV3bVZeMUJM"
      }
    },
    {
      "cell_type": "code",
      "source": [
        "data_list = [10,2,4,7,3,20,30,50,100,8,9,12,14]"
      ],
      "metadata": {
        "id": "6m2JpEAxIlcr"
      },
      "execution_count": null,
      "outputs": []
    },
    {
      "cell_type": "markdown",
      "source": [
        "1. Write a Python program to calculate the length of a string"
      ],
      "metadata": {
        "id": "s_RPTlU9VbKS"
      }
    },
    {
      "cell_type": "code",
      "source": [
        "print(len(data_list))"
      ],
      "metadata": {
        "colab": {
          "base_uri": "https://localhost:8080/"
        },
        "id": "zsE1oD-wIsRp",
        "outputId": "18f3b1e7-a989-4081-90eb-32eb356d1921"
      },
      "execution_count": null,
      "outputs": [
        {
          "output_type": "stream",
          "name": "stdout",
          "text": [
            "13\n"
          ]
        }
      ]
    },
    {
      "cell_type": "markdown",
      "source": [
        "2. Write a Python program to sum all the items in a list"
      ],
      "metadata": {
        "id": "E0wg__w-Vf9F"
      }
    },
    {
      "cell_type": "code",
      "source": [
        "print(sum(data_list))"
      ],
      "metadata": {
        "colab": {
          "base_uri": "https://localhost:8080/"
        },
        "id": "adENdUQoI53H",
        "outputId": "f4a8b39d-0c07-4dbc-f5c6-35d3205970d8"
      },
      "execution_count": null,
      "outputs": [
        {
          "output_type": "stream",
          "name": "stdout",
          "text": [
            "269\n"
          ]
        }
      ]
    },
    {
      "cell_type": "markdown",
      "source": [
        "3. Write a Python program to get the largest number from a list"
      ],
      "metadata": {
        "id": "xKHIk8-FVkRa"
      }
    },
    {
      "cell_type": "code",
      "source": [
        "print(max(data_list))"
      ],
      "metadata": {
        "colab": {
          "base_uri": "https://localhost:8080/"
        },
        "id": "D--1y-ZfJACA",
        "outputId": "5f4d58bd-0f2b-4211-afb8-8b551486163f"
      },
      "execution_count": null,
      "outputs": [
        {
          "output_type": "stream",
          "name": "stdout",
          "text": [
            "100\n"
          ]
        }
      ]
    },
    {
      "cell_type": "markdown",
      "source": [
        "4. Write a Python program to get the smallest number from a list"
      ],
      "metadata": {
        "id": "Xf5LJZhzVpDr"
      }
    },
    {
      "cell_type": "code",
      "source": [
        "print(min(data_list))"
      ],
      "metadata": {
        "colab": {
          "base_uri": "https://localhost:8080/"
        },
        "id": "nfleFt0GJG0Y",
        "outputId": "4dd0a8a8-e658-40a3-826c-402047c4dc18"
      },
      "execution_count": null,
      "outputs": [
        {
          "output_type": "stream",
          "name": "stdout",
          "text": [
            "2\n"
          ]
        }
      ]
    },
    {
      "cell_type": "markdown",
      "source": [
        "5. Retrieve data from index 3 to 5"
      ],
      "metadata": {
        "id": "AHYjcZ6NdQP7"
      }
    },
    {
      "cell_type": "code",
      "source": [
        "print(data_list[3:6])"
      ],
      "metadata": {
        "colab": {
          "base_uri": "https://localhost:8080/"
        },
        "id": "ec2aeCQSJLw7",
        "outputId": "ee973523-c655-4d8f-f035-8d909b57a114"
      },
      "execution_count": null,
      "outputs": [
        {
          "output_type": "stream",
          "name": "stdout",
          "text": [
            "[7, 3, 20]\n"
          ]
        }
      ]
    },
    {
      "cell_type": "markdown",
      "source": [
        "6. Retrieve data from index 0 to 4"
      ],
      "metadata": {
        "id": "XI3j3-LVdVUI"
      }
    },
    {
      "cell_type": "code",
      "source": [
        "print(data_list[:5])"
      ],
      "metadata": {
        "colab": {
          "base_uri": "https://localhost:8080/"
        },
        "id": "mnHzmrbvJk2W",
        "outputId": "3d955617-499a-4dd0-bf25-6ee847daa241"
      },
      "execution_count": null,
      "outputs": [
        {
          "output_type": "stream",
          "name": "stdout",
          "text": [
            "[10, 2, 4, 7, 3]\n"
          ]
        }
      ]
    },
    {
      "cell_type": "markdown",
      "source": [
        "7. Retrieve data from index 2 to the last"
      ],
      "metadata": {
        "id": "CnHhXx3gdYyd"
      }
    },
    {
      "cell_type": "code",
      "source": [
        "print(data_list[2:])"
      ],
      "metadata": {
        "colab": {
          "base_uri": "https://localhost:8080/"
        },
        "id": "dX2PWBBTJu9s",
        "outputId": "2d45c295-bb51-49b8-8fba-46cce7cfb9ff"
      },
      "execution_count": null,
      "outputs": [
        {
          "output_type": "stream",
          "name": "stdout",
          "text": [
            "[4, 7, 3, 20, 30, 50, 100, 8, 9, 12, 14]\n"
          ]
        }
      ]
    },
    {
      "cell_type": "markdown",
      "source": [
        "8. Retrieve data from last index only"
      ],
      "metadata": {
        "id": "OjDT_P_odcCF"
      }
    },
    {
      "cell_type": "code",
      "source": [
        "print(data_list[-1:])"
      ],
      "metadata": {
        "colab": {
          "base_uri": "https://localhost:8080/"
        },
        "id": "D4coMgpKJ0g_",
        "outputId": "7b0aa94c-32da-4b7d-9232-a02a459076a4"
      },
      "execution_count": null,
      "outputs": [
        {
          "output_type": "stream",
          "name": "stdout",
          "text": [
            "[14]\n"
          ]
        }
      ]
    },
    {
      "cell_type": "markdown",
      "source": [
        "9. Add data 110 to data_list"
      ],
      "metadata": {
        "id": "nT8wwEBide7y"
      }
    },
    {
      "cell_type": "code",
      "source": [
        "data_list.append(110)\n",
        "print(data_list)"
      ],
      "metadata": {
        "colab": {
          "base_uri": "https://localhost:8080/"
        },
        "id": "unucd22-KBvU",
        "outputId": "0810095e-aa7c-44fa-d4b7-bd2264754cad"
      },
      "execution_count": null,
      "outputs": [
        {
          "output_type": "stream",
          "name": "stdout",
          "text": [
            "[10, 2, 4, 7, 3, 20, 30, 50, 100, 8, 9, 12, 14, 110]\n"
          ]
        }
      ]
    },
    {
      "cell_type": "markdown",
      "source": [
        "10. Sort data from smallest to largest"
      ],
      "metadata": {
        "id": "vhdltpaKdi3R"
      }
    },
    {
      "cell_type": "code",
      "source": [
        "sorted(data_list)"
      ],
      "metadata": {
        "colab": {
          "base_uri": "https://localhost:8080/"
        },
        "id": "U6RUNkGQKdgM",
        "outputId": "b1a7ee96-a6d0-470f-ce1d-1b963bd5861c"
      },
      "execution_count": null,
      "outputs": [
        {
          "output_type": "execute_result",
          "data": {
            "text/plain": [
              "[2, 3, 4, 7, 8, 9, 10, 12, 14, 20, 30, 50, 100, 110]"
            ]
          },
          "metadata": {},
          "execution_count": 14
        }
      ]
    },
    {
      "cell_type": "markdown",
      "source": [
        "# Data Dictionary"
      ],
      "metadata": {
        "id": "LWGvu8CsMcnE"
      }
    },
    {
      "cell_type": "code",
      "source": [
        "data_dict = { 'buah': ['apple', 'grape', 'watermelon'], 'kendaraan': ['mobil', 'motor', 'kereta'], 'warna': ['merah', 'kuning', 'hijau'] }"
      ],
      "metadata": {
        "id": "hvOFPMeaKpps"
      },
      "execution_count": null,
      "outputs": []
    },
    {
      "cell_type": "markdown",
      "source": [
        "1. Retrieve value from key buah"
      ],
      "metadata": {
        "id": "Y4z2TbE6dn2b"
      }
    },
    {
      "cell_type": "code",
      "source": [
        "print(data_dict['buah'])"
      ],
      "metadata": {
        "colab": {
          "base_uri": "https://localhost:8080/"
        },
        "id": "kPbL6CdAMG1K",
        "outputId": "59f8f354-aa84-44b1-ca96-439b35ac7a07"
      },
      "execution_count": null,
      "outputs": [
        {
          "output_type": "stream",
          "name": "stdout",
          "text": [
            "['apple', 'grape', 'watermelon']\n"
          ]
        }
      ]
    },
    {
      "cell_type": "markdown",
      "source": [
        "2. Retrieve value from key kendaraan"
      ],
      "metadata": {
        "id": "961HwcekdrFP"
      }
    },
    {
      "cell_type": "code",
      "source": [
        "print(data_dict['kendaraan'])"
      ],
      "metadata": {
        "colab": {
          "base_uri": "https://localhost:8080/"
        },
        "id": "M6z4SMalN3-1",
        "outputId": "d8a8c174-2458-4c74-a65c-9a0f14622907"
      },
      "execution_count": null,
      "outputs": [
        {
          "output_type": "stream",
          "name": "stdout",
          "text": [
            "['mobil', 'motor', 'kereta']\n"
          ]
        }
      ]
    },
    {
      "cell_type": "markdown",
      "source": [
        "3. Retrieve value from warna, but 'merah' only"
      ],
      "metadata": {
        "id": "gn3NwCmadtvn"
      }
    },
    {
      "cell_type": "code",
      "source": [
        "data_dict['warna'][0]"
      ],
      "metadata": {
        "colab": {
          "base_uri": "https://localhost:8080/",
          "height": 36
        },
        "id": "AzHX5wA5N-BL",
        "outputId": "54b71946-002d-4835-b3c2-724551a00970"
      },
      "execution_count": null,
      "outputs": [
        {
          "output_type": "execute_result",
          "data": {
            "text/plain": [
              "'merah'"
            ],
            "application/vnd.google.colaboratory.intrinsic+json": {
              "type": "string"
            }
          },
          "metadata": {},
          "execution_count": 18
        }
      ]
    },
    {
      "cell_type": "markdown",
      "source": [
        "# Looping"
      ],
      "metadata": {
        "id": "ljL9_DZTOyKs"
      }
    },
    {
      "cell_type": "markdown",
      "source": [
        "1. Print value 1 to 10 using while loop and for loop"
      ],
      "metadata": {
        "id": "G3By68dXdzX9"
      }
    },
    {
      "cell_type": "code",
      "source": [
        "for i in range (1,11):\n",
        "  print(i)"
      ],
      "metadata": {
        "colab": {
          "base_uri": "https://localhost:8080/"
        },
        "id": "BhI284DFOk1v",
        "outputId": "3b4961be-8b66-4671-faee-4d2e315ded18"
      },
      "execution_count": null,
      "outputs": [
        {
          "output_type": "stream",
          "name": "stdout",
          "text": [
            "1\n",
            "2\n",
            "3\n",
            "4\n",
            "5\n",
            "6\n",
            "7\n",
            "8\n",
            "9\n",
            "10\n"
          ]
        }
      ]
    },
    {
      "cell_type": "code",
      "source": [
        "i = 1\n",
        "while(i<11):\n",
        "  print(i)\n",
        "  i+=1"
      ],
      "metadata": {
        "colab": {
          "base_uri": "https://localhost:8080/"
        },
        "id": "9Rku8fOcPUAT",
        "outputId": "d6a2040e-5f9f-47af-c9df-919d2e79fd15"
      },
      "execution_count": null,
      "outputs": [
        {
          "output_type": "stream",
          "name": "stdout",
          "text": [
            "1\n",
            "2\n",
            "3\n",
            "4\n",
            "5\n",
            "6\n",
            "7\n",
            "8\n",
            "9\n",
            "10\n"
          ]
        }
      ]
    },
    {
      "cell_type": "markdown",
      "source": [
        "2. Write a Python program to print numbers from 1 to 20 (if divisible by 2 then print 'even value', if not then 'odd value' ->Clue: x % 2 == 0"
      ],
      "metadata": {
        "id": "pJotmXR8RxMU"
      }
    },
    {
      "cell_type": "code",
      "source": [
        "for i in range(1, 21):\n",
        "    if i % 2 == 0:\n",
        "        print(i, 'is even value')\n",
        "    else:\n",
        "        print(i, 'is odd value')"
      ],
      "metadata": {
        "colab": {
          "base_uri": "https://localhost:8080/"
        },
        "id": "wd4t49NtQN29",
        "outputId": "1054ff6f-8b1d-4533-c894-a7bb7ff297fe"
      },
      "execution_count": null,
      "outputs": [
        {
          "output_type": "stream",
          "name": "stdout",
          "text": [
            "1 is odd value\n",
            "2 is even value\n",
            "3 is odd value\n",
            "4 is even value\n",
            "5 is odd value\n",
            "6 is even value\n",
            "7 is odd value\n",
            "8 is even value\n",
            "9 is odd value\n",
            "10 is even value\n",
            "11 is odd value\n",
            "12 is even value\n",
            "13 is odd value\n",
            "14 is even value\n",
            "15 is odd value\n",
            "16 is even value\n",
            "17 is odd value\n",
            "18 is even value\n",
            "19 is odd value\n",
            "20 is even value\n"
          ]
        }
      ]
    },
    {
      "cell_type": "markdown",
      "source": [
        "3. Write a program to print multiplication table of 2"
      ],
      "metadata": {
        "id": "vICw955SR0ht"
      }
    },
    {
      "cell_type": "code",
      "source": [
        "lst2 = []\n",
        "\n",
        "for i in range(20):\n",
        "    if i % 2 == 0:\n",
        "      lst2.append(i)\n",
        "\n",
        "print([lst2]*2)"
      ],
      "metadata": {
        "id": "61WfGPkoR6VV",
        "colab": {
          "base_uri": "https://localhost:8080/"
        },
        "outputId": "6fa400b7-f840-410f-8814-8800fce5078f"
      },
      "execution_count": null,
      "outputs": [
        {
          "output_type": "stream",
          "name": "stdout",
          "text": [
            "[[0, 2, 4, 6, 8, 10, 12, 14, 16, 18], [0, 2, 4, 6, 8, 10, 12, 14, 16, 18]]\n"
          ]
        }
      ]
    },
    {
      "cell_type": "markdown",
      "source": [
        "4. Write a program to display only those numbers from a list that satisfy the following conditions: list = [12,25,50,70,75,80,125,150,200,272,287,290,300,400,502,100]"
      ],
      "metadata": {
        "id": "bzyQFyWZTnwO"
      }
    },
    {
      "cell_type": "code",
      "source": [
        "list = [12,25,50,70,75,80,125,150,200,272,287,290,300,400,502,100]"
      ],
      "metadata": {
        "id": "XHvnOsgtTwZD"
      },
      "execution_count": null,
      "outputs": []
    },
    {
      "cell_type": "markdown",
      "source": [
        "- The number must be divisible by five"
      ],
      "metadata": {
        "id": "s2t_St8aT2Db"
      }
    },
    {
      "cell_type": "code",
      "source": [
        "new_list = [x//5 for x in list]\n",
        "print(new_list)"
      ],
      "metadata": {
        "colab": {
          "base_uri": "https://localhost:8080/"
        },
        "id": "c04TuUG0T0xS",
        "outputId": "54f6fae6-fd44-4973-b194-4aa419663bb8"
      },
      "execution_count": null,
      "outputs": [
        {
          "output_type": "stream",
          "name": "stdout",
          "text": [
            "[2, 5, 10, 14, 15, 16, 25, 30, 40, 54, 57, 58, 60, 80, 100, 20]\n"
          ]
        }
      ]
    },
    {
      "cell_type": "markdown",
      "source": [
        "- If the number is between 200 and 300, then print 2 * the numbers"
      ],
      "metadata": {
        "id": "a7lfelIbUj77"
      }
    },
    {
      "cell_type": "code",
      "source": [
        "for i in list[8:-3]:\n",
        "  print([i])\n",
        "  print('the value of 2*number is ',[i*2])"
      ],
      "metadata": {
        "id": "l6uxg5t5TzRq",
        "colab": {
          "base_uri": "https://localhost:8080/"
        },
        "outputId": "b5f48c2f-da52-423b-99ed-fbcdf9c89146"
      },
      "execution_count": null,
      "outputs": [
        {
          "output_type": "stream",
          "name": "stdout",
          "text": [
            "[200]\n",
            "the value of 2*number is  [400]\n",
            "[272]\n",
            "the value of 2*number is  [544]\n",
            "[287]\n",
            "the value of 2*number is  [574]\n",
            "[290]\n",
            "the value of 2*number is  [580]\n",
            "[300]\n",
            "the value of 2*number is  [600]\n"
          ]
        }
      ]
    },
    {
      "cell_type": "markdown",
      "source": [
        "- If number is greater than 500 then print 'out of range'"
      ],
      "metadata": {
        "id": "PDZUGk1bU56z"
      }
    },
    {
      "cell_type": "code",
      "source": [
        "lst = [i for i in list if i>=500]\n",
        "print('the value',lst, 'is out of range')"
      ],
      "metadata": {
        "id": "K3XpP9s8U_uS",
        "colab": {
          "base_uri": "https://localhost:8080/"
        },
        "outputId": "f241d6d3-bd9d-4c8a-bdc9-d30b33d49e4c"
      },
      "execution_count": null,
      "outputs": [
        {
          "output_type": "stream",
          "name": "stdout",
          "text": [
            "the value [502] is out of range\n"
          ]
        }
      ]
    },
    {
      "cell_type": "markdown",
      "source": [
        "5. Print list in reverse order using a loop list1 = [10, 20, 30, 40, 50] -> clue: reversed()"
      ],
      "metadata": {
        "id": "b9X2zR1zd8CK"
      }
    },
    {
      "cell_type": "code",
      "source": [
        "list1 = [10, 20, 30, 40, 50]\n",
        "for lst in reversed(list1):\n",
        "  print(lst)"
      ],
      "metadata": {
        "colab": {
          "base_uri": "https://localhost:8080/"
        },
        "id": "ociaIzTQeAbX",
        "outputId": "b0d8f707-bc39-4bf0-ed8d-e15783ed3ba2"
      },
      "execution_count": null,
      "outputs": [
        {
          "output_type": "stream",
          "name": "stdout",
          "text": [
            "50\n",
            "40\n",
            "30\n",
            "20\n",
            "10\n"
          ]
        }
      ]
    },
    {
      "cell_type": "markdown",
      "source": [
        "6. Display numbers from -10 to -1 using for loop"
      ],
      "metadata": {
        "id": "aCh50HyxeA5A"
      }
    },
    {
      "cell_type": "code",
      "source": [
        "for i in reversed(range(-1,-11,-1)):\n",
        "  print(i)"
      ],
      "metadata": {
        "colab": {
          "base_uri": "https://localhost:8080/"
        },
        "id": "mw4cw9gBeDhS",
        "outputId": "f8b7594f-dcd5-48bb-cb23-e3eb8a46e52d"
      },
      "execution_count": null,
      "outputs": [
        {
          "output_type": "stream",
          "name": "stdout",
          "text": [
            "-10\n",
            "-9\n",
            "-8\n",
            "-7\n",
            "-6\n",
            "-5\n",
            "-4\n",
            "-3\n",
            "-2\n",
            "-1\n"
          ]
        }
      ]
    },
    {
      "cell_type": "markdown",
      "source": [
        "7. Use a loop to display elements from a given list present at odd index positions my_list = [10, 20, 30, 40, 50, 60, 70, 80, 90, 100]"
      ],
      "metadata": {
        "id": "-qYVnIb5eEEh"
      }
    },
    {
      "cell_type": "code",
      "source": [
        "my_list = [10, 20, 30, 40, 50, 60, 70, 80, 90, 100]"
      ],
      "metadata": {
        "id": "F0BxF_WJeHgK"
      },
      "execution_count": null,
      "outputs": []
    },
    {
      "cell_type": "code",
      "source": [
        "for i in my_list[::2]:\n",
        "  print(i,'-> odd index position at : ',my_list.index(i))"
      ],
      "metadata": {
        "colab": {
          "base_uri": "https://localhost:8080/"
        },
        "id": "p1QlJDb4tjnG",
        "outputId": "4d660df3-c5f2-43a5-fe18-cd38930719e2"
      },
      "execution_count": null,
      "outputs": [
        {
          "output_type": "stream",
          "name": "stdout",
          "text": [
            "10 -> odd index position at :  0\n",
            "30 -> odd index position at :  2\n",
            "50 -> odd index position at :  4\n",
            "70 -> odd index position at :  6\n",
            "90 -> odd index position at :  8\n"
          ]
        }
      ]
    }
  ]
}