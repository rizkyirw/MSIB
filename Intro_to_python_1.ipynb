{
  "nbformat": 4,
  "nbformat_minor": 0,
  "metadata": {
    "colab": {
      "provenance": [],
      "collapsed_sections": []
    },
    "kernelspec": {
      "name": "python3",
      "display_name": "Python 3"
    },
    "language_info": {
      "name": "python"
    }
  },
  "cells": [
    {
      "cell_type": "markdown",
      "source": [
        "# Data Type"
      ],
      "metadata": {
        "id": "z4jW4p-T4Ib4"
      }
    },
    {
      "cell_type": "code",
      "execution_count": null,
      "metadata": {
        "colab": {
          "base_uri": "https://localhost:8080/"
        },
        "id": "FSgzKqhn0tmR",
        "outputId": "caa1f32e-5c25-4df5-fed8-e2cc456e4f8f"
      },
      "outputs": [
        {
          "output_type": "stream",
          "name": "stdout",
          "text": [
            "hello world!\n"
          ]
        }
      ],
      "source": [
        "print('hello world!')"
      ]
    },
    {
      "cell_type": "code",
      "source": [
        "data1 = 20\n",
        "data2 = 30.5\n",
        "data3 = 'kita belajar python'\n",
        "data4 = True\n",
        "data5 = False"
      ],
      "metadata": {
        "id": "sdNSKB0q4XL5"
      },
      "execution_count": null,
      "outputs": []
    },
    {
      "cell_type": "code",
      "source": [
        "data1"
      ],
      "metadata": {
        "colab": {
          "base_uri": "https://localhost:8080/"
        },
        "id": "QolOkuRU43gk",
        "outputId": "506e01b8-e505-4ffb-e60f-caa8739d8193"
      },
      "execution_count": null,
      "outputs": [
        {
          "output_type": "execute_result",
          "data": {
            "text/plain": [
              "20"
            ]
          },
          "metadata": {},
          "execution_count": 3
        }
      ]
    },
    {
      "cell_type": "code",
      "source": [
        "print(data2)\n",
        "print(data3)"
      ],
      "metadata": {
        "colab": {
          "base_uri": "https://localhost:8080/"
        },
        "id": "whzPyJpw5l9x",
        "outputId": "6c30fce8-8e99-42e9-b627-c3fbac0afca1"
      },
      "execution_count": null,
      "outputs": [
        {
          "output_type": "stream",
          "name": "stdout",
          "text": [
            "30.5\n",
            "kita belajar python\n"
          ]
        }
      ]
    },
    {
      "cell_type": "code",
      "source": [
        "#sequencial\n",
        "a = 20\n",
        "a = 30\n",
        "print(a)"
      ],
      "metadata": {
        "colab": {
          "base_uri": "https://localhost:8080/"
        },
        "id": "jnGDQ4ze5q5v",
        "outputId": "47f6744b-f81a-4ee7-e715-bc0a8835f5d6"
      },
      "execution_count": null,
      "outputs": [
        {
          "output_type": "stream",
          "name": "stdout",
          "text": [
            "30\n"
          ]
        }
      ]
    },
    {
      "cell_type": "code",
      "source": [
        "print(data1, data2, data3)"
      ],
      "metadata": {
        "colab": {
          "base_uri": "https://localhost:8080/"
        },
        "id": "v7BXGepV5xYV",
        "outputId": "8c2ae0e8-52e1-43d4-c805-3bab4bfe6be5"
      },
      "execution_count": null,
      "outputs": [
        {
          "output_type": "stream",
          "name": "stdout",
          "text": [
            "20 30.5 kita belajar python\n"
          ]
        }
      ]
    },
    {
      "cell_type": "code",
      "source": [
        "# Data Type Checking\n",
        "\n",
        "print(type(data1))\n",
        "print(type(data2))\n",
        "print(type(data3))\n",
        "print(type(data4))\n",
        "print(type(data5))"
      ],
      "metadata": {
        "colab": {
          "base_uri": "https://localhost:8080/"
        },
        "id": "Y7dkyloR51RZ",
        "outputId": "9b492f13-0153-40ad-be75-f2731ac91df1"
      },
      "execution_count": null,
      "outputs": [
        {
          "output_type": "stream",
          "name": "stdout",
          "text": [
            "<class 'int'>\n",
            "<class 'float'>\n",
            "<class 'str'>\n",
            "<class 'bool'>\n",
            "<class 'bool'>\n"
          ]
        }
      ]
    },
    {
      "cell_type": "markdown",
      "source": [
        "### Data Structure"
      ],
      "metadata": {
        "id": "XNQaxfrK7FLF"
      }
    },
    {
      "cell_type": "code",
      "source": [
        "data_list = [\"rizky\",\"hafiz\",\"shavira\",\"chia\",\"prisha\",\"fajri\",\"nabil\"]\n",
        "data_dictionary = {\"product\":[\"ford\", \"toyota\", \"honda\"], \n",
        "                   \"jenis\":\"car\",\n",
        "                   \"jumlah\": 3}"
      ],
      "metadata": {
        "id": "QXk0_CBK58Aw"
      },
      "execution_count": null,
      "outputs": []
    },
    {
      "cell_type": "code",
      "source": [
        "type(data_list)"
      ],
      "metadata": {
        "colab": {
          "base_uri": "https://localhost:8080/"
        },
        "id": "htJ_SkyY8EkN",
        "outputId": "e8e26819-eaf4-482f-cacf-b942d62ec52c"
      },
      "execution_count": null,
      "outputs": [
        {
          "output_type": "execute_result",
          "data": {
            "text/plain": [
              "list"
            ]
          },
          "metadata": {},
          "execution_count": 12
        }
      ]
    },
    {
      "cell_type": "code",
      "source": [
        "type(data_dictionary)"
      ],
      "metadata": {
        "colab": {
          "base_uri": "https://localhost:8080/"
        },
        "id": "haK_vaPV8HY_",
        "outputId": "068295ab-7fea-4593-bfee-4ad524f3d06e"
      },
      "execution_count": null,
      "outputs": [
        {
          "output_type": "execute_result",
          "data": {
            "text/plain": [
              "dict"
            ]
          },
          "metadata": {},
          "execution_count": 15
        }
      ]
    },
    {
      "cell_type": "markdown",
      "source": [
        "### Slicing -> index1:index2:index3\n",
        "\n",
        "- index 1 : start\n",
        "- index 2 : stop index\n",
        "- index 3 : interval"
      ],
      "metadata": {
        "id": "madrqk_5_hjX"
      }
    },
    {
      "cell_type": "code",
      "source": [
        "#Slicing list\n",
        "\n",
        "# 1. ambil nama rizky sampai shavira\n",
        "print(data_list[0:3])\n",
        "data_list[:3]"
      ],
      "metadata": {
        "colab": {
          "base_uri": "https://localhost:8080/"
        },
        "id": "QrcEF8mB8bdR",
        "outputId": "9d19d86e-273c-4cf7-b526-7f2b8fd36c4e"
      },
      "execution_count": null,
      "outputs": [
        {
          "output_type": "stream",
          "name": "stdout",
          "text": [
            "['rizky', 'hafiz', 'shavira']\n"
          ]
        },
        {
          "output_type": "execute_result",
          "data": {
            "text/plain": [
              "['rizky', 'hafiz', 'shavira']"
            ]
          },
          "metadata": {},
          "execution_count": 25
        }
      ]
    },
    {
      "cell_type": "code",
      "source": [
        "data_list[2:5]"
      ],
      "metadata": {
        "colab": {
          "base_uri": "https://localhost:8080/"
        },
        "id": "HVdsutth9ybA",
        "outputId": "28b669fa-4a68-4243-a616-a3e6628d76b7"
      },
      "execution_count": null,
      "outputs": [
        {
          "output_type": "execute_result",
          "data": {
            "text/plain": [
              "['shavira', 'chia', 'prisha']"
            ]
          },
          "metadata": {},
          "execution_count": 27
        }
      ]
    },
    {
      "cell_type": "code",
      "source": [
        "data_list[3::]"
      ],
      "metadata": {
        "colab": {
          "base_uri": "https://localhost:8080/"
        },
        "id": "cpA4eYsE92B1",
        "outputId": "4360126a-f46c-4695-c7fe-91a868aef10a"
      },
      "execution_count": null,
      "outputs": [
        {
          "output_type": "execute_result",
          "data": {
            "text/plain": [
              "['chia', 'prisha', 'fajri', 'nabil']"
            ]
          },
          "metadata": {},
          "execution_count": 28
        }
      ]
    },
    {
      "cell_type": "code",
      "source": [
        "data_list[3::2]"
      ],
      "metadata": {
        "colab": {
          "base_uri": "https://localhost:8080/"
        },
        "id": "VI__Sa_I-2Q2",
        "outputId": "59cbd4a1-009f-4b80-d3b7-8586a4630d88"
      },
      "execution_count": null,
      "outputs": [
        {
          "output_type": "execute_result",
          "data": {
            "text/plain": [
              "['chia', 'fajri']"
            ]
          },
          "metadata": {},
          "execution_count": 29
        }
      ]
    },
    {
      "cell_type": "code",
      "source": [
        "#kalau nulis 0 dari rizky, 7 stop di index 7 atau (n) data, 1 itu nulis semua karena sebagai intervalnya (menyesuaikan interval)\n",
        "data_list[0:7:2]"
      ],
      "metadata": {
        "colab": {
          "base_uri": "https://localhost:8080/"
        },
        "id": "3ThtDn2W-_cd",
        "outputId": "2d9aa5f6-b0ed-4ee4-e4fa-8627452eff3b"
      },
      "execution_count": null,
      "outputs": [
        {
          "output_type": "execute_result",
          "data": {
            "text/plain": [
              "['rizky', 'shavira', 'prisha', 'nabil']"
            ]
          },
          "metadata": {},
          "execution_count": 30
        }
      ]
    }
  ]
}