{
 "cells": [
  {
   "cell_type": "code",
   "execution_count": 3,
   "id": "abdbb0b6",
   "metadata": {},
   "outputs": [
    {
     "name": "stdout",
     "output_type": "stream",
     "text": [
      "10 kurang dari 20\n"
     ]
    }
   ],
   "source": [
    "x = 10\n",
    "y = 20\n",
    "\n",
    "if x == y:\n",
    "    print('10 sama dengan 20')\n",
    "elif x > y:\n",
    "    print('10 lebih dari 20')\n",
    "else:\n",
    "    print('10 kurang dari 20')"
   ]
  },
  {
   "cell_type": "code",
   "execution_count": 4,
   "id": "f0a023f5",
   "metadata": {},
   "outputs": [
    {
     "name": "stdout",
     "output_type": "stream",
     "text": [
      "yes\n"
     ]
    }
   ],
   "source": [
    "if 'to' in 'toyota':\n",
    "    print('yes')\n",
    "elif 'ab' in 'toyota':\n",
    "    print('nope')"
   ]
  },
  {
   "cell_type": "code",
   "execution_count": 5,
   "id": "4ac3bf0c",
   "metadata": {},
   "outputs": [
    {
     "name": "stdout",
     "output_type": "stream",
     "text": [
      "cd\n"
     ]
    }
   ],
   "source": [
    "ini_list = ['mobil', 'motor', 'kereta']\n",
    "\n",
    "if 'kereta' in ini_list:\n",
    "    if 'ke' and 'da' in 'kereta':\n",
    "        print('ab')\n",
    "    elif 'ta' in 'kereta':\n",
    "        print('cd')\n",
    "    else:\n",
    "        print('yesss')\n",
    "else:\n",
    "    print('ga ada')"
   ]
  },
  {
   "cell_type": "code",
   "execution_count": 9,
   "id": "4fd218c6",
   "metadata": {},
   "outputs": [
    {
     "name": "stdout",
     "output_type": "stream",
     "text": [
      "yes\n"
     ]
    }
   ],
   "source": [
    "x = 10\n",
    "y = 20\n",
    "\n",
    "if x > y or x == 20/2:\n",
    "    print('yes')\n",
    "else:\n",
    "    print('no')"
   ]
  },
  {
   "cell_type": "markdown",
   "id": "9597da09",
   "metadata": {},
   "source": [
    "### Looping"
   ]
  },
  {
   "cell_type": "code",
   "execution_count": 14,
   "id": "1096a42d",
   "metadata": {},
   "outputs": [
    {
     "name": "stdout",
     "output_type": "stream",
     "text": [
      "ini adalah print pada lap ke -  1\n",
      "ini adalah print pada lap ke -  2\n",
      "ini adalah print pada lap ke -  3\n",
      "ini adalah print pada lap ke -  4\n",
      "ini adalah print pada lap ke -  5\n",
      "ini adalah print pada lap ke -  6\n",
      "ini adalah print pada lap ke -  7\n",
      "ini adalah print pada lap ke -  8\n",
      "ini adalah print pada lap ke -  9\n"
     ]
    }
   ],
   "source": [
    "# For Loop\n",
    "\n",
    "for i in range(1,10):\n",
    "    print('ini adalah print pada lap ke - ', i)"
   ]
  },
  {
   "cell_type": "code",
   "execution_count": 11,
   "id": "642632c6",
   "metadata": {},
   "outputs": [
    {
     "name": "stdout",
     "output_type": "stream",
     "text": [
      "ini adalah item  mobil\n",
      "ini adalah item  motor\n",
      "ini adalah item  kereta\n",
      "ini adalah item  sepeda\n"
     ]
    }
   ],
   "source": [
    "ini_list = ['mobil', 'motor', 'kereta', 'sepeda']\n",
    "\n",
    "for i in ini_list: # -> i itu mengandung item yang ada pada list\n",
    "    print('ini adalah item ', i)"
   ]
  },
  {
   "cell_type": "code",
   "execution_count": 15,
   "id": "ccf3878d",
   "metadata": {},
   "outputs": [
    {
     "name": "stdout",
     "output_type": "stream",
     "text": [
      "ini lap ke 1\n",
      "ini lap ke 6\n"
     ]
    }
   ],
   "source": [
    "# While loop\n",
    "\n",
    "x = 1\n",
    "\n",
    "while x <= 10:\n",
    "    print('ini lap ke', x)\n",
    "    x += 5 #sama aja dengan x = x + 1 (sebagai limiter/interval juga bisa)"
   ]
  },
  {
   "cell_type": "code",
   "execution_count": 26,
   "id": "756da347",
   "metadata": {},
   "outputs": [
    {
     "name": "stdout",
     "output_type": "stream",
     "text": [
      "perjalanan ada hambatan\n",
      "perjalanan ada hambatan\n",
      "perjalanan tanpa hambatan\n",
      "perjalanan ada hambatan\n"
     ]
    },
    {
     "data": {
      "text/plain": [
       "['perjalanan ada hambatan',\n",
       " 'perjalanan ada hambatan',\n",
       " 'perjalanan tanpa hambatan',\n",
       " 'perjalanan ada hambatan']"
      ]
     },
     "execution_count": 26,
     "metadata": {},
     "output_type": "execute_result"
    }
   ],
   "source": [
    "status_perjalanan = []\n",
    "ini_list = ['mobil', 'motor', 'kereta', 'sepeda']\n",
    "\n",
    "for i in ini_list:\n",
    "    if i == 'kereta':\n",
    "        print('perjalanan tanpa hambatan')\n",
    "        status_perjalanan.append('perjalanan tanpa hambatan')\n",
    "    else:\n",
    "        print('perjalanan ada hambatan')\n",
    "        status_perjalanan.append('perjalanan ada hambatan')\n",
    "        \n",
    "status_perjalanan"
   ]
  }
 ],
 "metadata": {
  "kernelspec": {
   "display_name": "Python 3 (ipykernel)",
   "language": "python",
   "name": "python3"
  },
  "language_info": {
   "codemirror_mode": {
    "name": "ipython",
    "version": 3
   },
   "file_extension": ".py",
   "mimetype": "text/x-python",
   "name": "python",
   "nbconvert_exporter": "python",
   "pygments_lexer": "ipython3",
   "version": "3.9.12"
  }
 },
 "nbformat": 4,
 "nbformat_minor": 5
}
